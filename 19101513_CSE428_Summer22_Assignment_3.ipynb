{
  "nbformat": 4,
  "nbformat_minor": 5,
  "metadata": {
    "kernelspec": {
      "display_name": "Python 3",
      "language": "python",
      "name": "python3"
    },
    "language_info": {
      "codemirror_mode": {
        "name": "ipython",
        "version": 3
      },
      "file_extension": ".py",
      "mimetype": "text/x-python",
      "name": "python",
      "nbconvert_exporter": "python",
      "pygments_lexer": "ipython3",
      "version": "3.7.3"
    },
    "colab": {
      "provenance": []
    }
  },
  "cells": [
    {
      "cell_type": "code",
      "metadata": {
        "id": "94ce5628"
      },
      "source": [
        "NAME = \"TANIA RAHMAN KHAN\"\n",
        "ID = \"19101513\"\n",
        "COLLABORATORS_ID = [\"19101139\", \"\"]"
      ],
      "id": "94ce5628",
      "execution_count": null,
      "outputs": []
    },
    {
      "cell_type": "markdown",
      "metadata": {
        "id": "4da31a6c"
      },
      "source": [
        "---"
      ],
      "id": "4da31a6c"
    },
    {
      "cell_type": "markdown",
      "metadata": {
        "deletable": false,
        "editable": false,
        "nbgrader": {
          "cell_type": "markdown",
          "checksum": "a60b8c4e677523727eab4f7759650400",
          "grade": false,
          "grade_id": "cell-1b4c2f2281b1520c",
          "locked": true,
          "schema_version": 3,
          "solution": false,
          "task": false
        },
        "id": "71965798"
      },
      "source": [
        "# First import the necessary libraries"
      ],
      "id": "71965798"
    },
    {
      "cell_type": "code",
      "metadata": {
        "deletable": false,
        "editable": false,
        "nbgrader": {
          "cell_type": "code",
          "checksum": "33c6128d397e1926a8f3351c7656b9b0",
          "grade": false,
          "grade_id": "cell-5543fa2e984f6297",
          "locked": true,
          "schema_version": 3,
          "solution": false,
          "task": false
        },
        "id": "3fba5b99"
      },
      "source": [
        "import numpy as np\n",
        "import pandas as pd\n",
        "import matplotlib.pyplot as plt\n",
        "\n",
        "from sklearn import datasets, preprocessing, linear_model\n",
        "from sklearn.model_selection import train_test_split"
      ],
      "id": "3fba5b99",
      "execution_count": null,
      "outputs": []
    },
    {
      "cell_type": "markdown",
      "metadata": {
        "deletable": false,
        "editable": false,
        "nbgrader": {
          "cell_type": "markdown",
          "checksum": "d02ab800c390be8b40007a251b9f702a",
          "grade": false,
          "grade_id": "cell-3ffbb314eccd1229",
          "locked": true,
          "schema_version": 3,
          "solution": false,
          "task": false
        },
        "id": "e29cf1c8"
      },
      "source": [
        "# Linear Regression"
      ],
      "id": "e29cf1c8"
    },
    {
      "cell_type": "code",
      "metadata": {
        "deletable": false,
        "nbgrader": {
          "cell_type": "code",
          "checksum": "8db452901217c784823a2642df034ffb",
          "grade": true,
          "grade_id": "cell-fc331f4fdfc84046",
          "locked": false,
          "points": 3,
          "schema_version": 3,
          "solution": true,
          "task": false
        },
        "id": "95d33412",
        "colab": {
          "base_uri": "https://localhost:8080/"
        },
        "outputId": "adf9a43a-38ea-45fb-b6f5-a965e4352bc9"
      },
      "source": [
        "# Import the diabetes dataset from sklearn's datasets module, save it to the variable data\n",
        "data = None\n",
        "\n",
        "# Split the data into X and y. Print the shape of the two array.\n",
        "X = None\n",
        "y = None\n",
        "\n",
        "### BEGIN SOLUTION\n",
        "data = datasets.load_diabetes()\n",
        "#print(data.shape)\n",
        "#data.head()\n",
        "X = data['data']\n",
        "y = data['target']\n",
        "\n",
        "\n",
        "print(X.shape, \"= (n_sample, n_features)\")\n",
        "print(y.shape, \"= (n_sample,)\")\n",
        "### END SOLUTION"
      ],
      "id": "95d33412",
      "execution_count": null,
      "outputs": [
        {
          "output_type": "stream",
          "name": "stdout",
          "text": [
            "(442, 10) = (n_sample, n_features)\n",
            "(442,) = (n_sample,)\n"
          ]
        }
      ]
    },
    {
      "cell_type": "markdown",
      "metadata": {
        "deletable": false,
        "editable": false,
        "nbgrader": {
          "cell_type": "markdown",
          "checksum": "3309ba2247f726fece6e5446722ba511",
          "grade": false,
          "grade_id": "cell-8b64aba395f6a468",
          "locked": true,
          "schema_version": 3,
          "solution": false,
          "task": false
        },
        "id": "541153db"
      },
      "source": [
        "## Question 1\n",
        "How many samples are there in this datasets? How many features are there per sample?\n"
      ],
      "id": "541153db"
    },
    {
      "cell_type": "markdown",
      "metadata": {
        "deletable": false,
        "nbgrader": {
          "cell_type": "markdown",
          "checksum": "6ed3c16c189795980c4d65ae9204adae",
          "grade": true,
          "grade_id": "cell-a5e45583a3189462",
          "locked": false,
          "points": 1,
          "schema_version": 3,
          "solution": true,
          "task": false
        },
        "id": "20f3b151"
      },
      "source": [
        "ANSWER: sample-->422 & feature-->10"
      ],
      "id": "20f3b151"
    },
    {
      "cell_type": "code",
      "metadata": {
        "deletable": false,
        "nbgrader": {
          "cell_type": "code",
          "checksum": "0496f465bbde9295deef210da33119fd",
          "grade": true,
          "grade_id": "cell-82a20292eaad0f79",
          "locked": false,
          "points": 1,
          "schema_version": 3,
          "solution": true,
          "task": false
        },
        "id": "9f9e834b",
        "colab": {
          "base_uri": "https://localhost:8080/",
          "height": 206
        },
        "outputId": "96931142-1e16-414e-efec-50bc0afaccae"
      },
      "source": [
        "# Display the first 5 rows of the dataset in a pandas dataframe format\n",
        "\n",
        "### BEGIN SOLUTION\n",
        "\n",
        "#df = pd.DataFrame(data)\n",
        "#df.head()\n",
        "\n",
        "df = pd.DataFrame(data['data'], columns=data[\"feature_names\"])\n",
        "df.head()\n",
        "### END SOLUTION"
      ],
      "id": "9f9e834b",
      "execution_count": null,
      "outputs": [
        {
          "output_type": "execute_result",
          "data": {
            "text/plain": [
              "        age       sex       bmi        bp        s1        s2        s3  \\\n",
              "0  0.038076  0.050680  0.061696  0.021872 -0.044223 -0.034821 -0.043401   \n",
              "1 -0.001882 -0.044642 -0.051474 -0.026328 -0.008449 -0.019163  0.074412   \n",
              "2  0.085299  0.050680  0.044451 -0.005671 -0.045599 -0.034194 -0.032356   \n",
              "3 -0.089063 -0.044642 -0.011595 -0.036656  0.012191  0.024991 -0.036038   \n",
              "4  0.005383 -0.044642 -0.036385  0.021872  0.003935  0.015596  0.008142   \n",
              "\n",
              "         s4        s5        s6  \n",
              "0 -0.002592  0.019908 -0.017646  \n",
              "1 -0.039493 -0.068330 -0.092204  \n",
              "2 -0.002592  0.002864 -0.025930  \n",
              "3  0.034309  0.022692 -0.009362  \n",
              "4 -0.002592 -0.031991 -0.046641  "
            ],
            "text/html": [
              "\n",
              "  <div id=\"df-ea93b205-875b-43cb-a73e-a2d1e14bf536\">\n",
              "    <div class=\"colab-df-container\">\n",
              "      <div>\n",
              "<style scoped>\n",
              "    .dataframe tbody tr th:only-of-type {\n",
              "        vertical-align: middle;\n",
              "    }\n",
              "\n",
              "    .dataframe tbody tr th {\n",
              "        vertical-align: top;\n",
              "    }\n",
              "\n",
              "    .dataframe thead th {\n",
              "        text-align: right;\n",
              "    }\n",
              "</style>\n",
              "<table border=\"1\" class=\"dataframe\">\n",
              "  <thead>\n",
              "    <tr style=\"text-align: right;\">\n",
              "      <th></th>\n",
              "      <th>age</th>\n",
              "      <th>sex</th>\n",
              "      <th>bmi</th>\n",
              "      <th>bp</th>\n",
              "      <th>s1</th>\n",
              "      <th>s2</th>\n",
              "      <th>s3</th>\n",
              "      <th>s4</th>\n",
              "      <th>s5</th>\n",
              "      <th>s6</th>\n",
              "    </tr>\n",
              "  </thead>\n",
              "  <tbody>\n",
              "    <tr>\n",
              "      <th>0</th>\n",
              "      <td>0.038076</td>\n",
              "      <td>0.050680</td>\n",
              "      <td>0.061696</td>\n",
              "      <td>0.021872</td>\n",
              "      <td>-0.044223</td>\n",
              "      <td>-0.034821</td>\n",
              "      <td>-0.043401</td>\n",
              "      <td>-0.002592</td>\n",
              "      <td>0.019908</td>\n",
              "      <td>-0.017646</td>\n",
              "    </tr>\n",
              "    <tr>\n",
              "      <th>1</th>\n",
              "      <td>-0.001882</td>\n",
              "      <td>-0.044642</td>\n",
              "      <td>-0.051474</td>\n",
              "      <td>-0.026328</td>\n",
              "      <td>-0.008449</td>\n",
              "      <td>-0.019163</td>\n",
              "      <td>0.074412</td>\n",
              "      <td>-0.039493</td>\n",
              "      <td>-0.068330</td>\n",
              "      <td>-0.092204</td>\n",
              "    </tr>\n",
              "    <tr>\n",
              "      <th>2</th>\n",
              "      <td>0.085299</td>\n",
              "      <td>0.050680</td>\n",
              "      <td>0.044451</td>\n",
              "      <td>-0.005671</td>\n",
              "      <td>-0.045599</td>\n",
              "      <td>-0.034194</td>\n",
              "      <td>-0.032356</td>\n",
              "      <td>-0.002592</td>\n",
              "      <td>0.002864</td>\n",
              "      <td>-0.025930</td>\n",
              "    </tr>\n",
              "    <tr>\n",
              "      <th>3</th>\n",
              "      <td>-0.089063</td>\n",
              "      <td>-0.044642</td>\n",
              "      <td>-0.011595</td>\n",
              "      <td>-0.036656</td>\n",
              "      <td>0.012191</td>\n",
              "      <td>0.024991</td>\n",
              "      <td>-0.036038</td>\n",
              "      <td>0.034309</td>\n",
              "      <td>0.022692</td>\n",
              "      <td>-0.009362</td>\n",
              "    </tr>\n",
              "    <tr>\n",
              "      <th>4</th>\n",
              "      <td>0.005383</td>\n",
              "      <td>-0.044642</td>\n",
              "      <td>-0.036385</td>\n",
              "      <td>0.021872</td>\n",
              "      <td>0.003935</td>\n",
              "      <td>0.015596</td>\n",
              "      <td>0.008142</td>\n",
              "      <td>-0.002592</td>\n",
              "      <td>-0.031991</td>\n",
              "      <td>-0.046641</td>\n",
              "    </tr>\n",
              "  </tbody>\n",
              "</table>\n",
              "</div>\n",
              "      <button class=\"colab-df-convert\" onclick=\"convertToInteractive('df-ea93b205-875b-43cb-a73e-a2d1e14bf536')\"\n",
              "              title=\"Convert this dataframe to an interactive table.\"\n",
              "              style=\"display:none;\">\n",
              "        \n",
              "  <svg xmlns=\"http://www.w3.org/2000/svg\" height=\"24px\"viewBox=\"0 0 24 24\"\n",
              "       width=\"24px\">\n",
              "    <path d=\"M0 0h24v24H0V0z\" fill=\"none\"/>\n",
              "    <path d=\"M18.56 5.44l.94 2.06.94-2.06 2.06-.94-2.06-.94-.94-2.06-.94 2.06-2.06.94zm-11 1L8.5 8.5l.94-2.06 2.06-.94-2.06-.94L8.5 2.5l-.94 2.06-2.06.94zm10 10l.94 2.06.94-2.06 2.06-.94-2.06-.94-.94-2.06-.94 2.06-2.06.94z\"/><path d=\"M17.41 7.96l-1.37-1.37c-.4-.4-.92-.59-1.43-.59-.52 0-1.04.2-1.43.59L10.3 9.45l-7.72 7.72c-.78.78-.78 2.05 0 2.83L4 21.41c.39.39.9.59 1.41.59.51 0 1.02-.2 1.41-.59l7.78-7.78 2.81-2.81c.8-.78.8-2.07 0-2.86zM5.41 20L4 18.59l7.72-7.72 1.47 1.35L5.41 20z\"/>\n",
              "  </svg>\n",
              "      </button>\n",
              "      \n",
              "  <style>\n",
              "    .colab-df-container {\n",
              "      display:flex;\n",
              "      flex-wrap:wrap;\n",
              "      gap: 12px;\n",
              "    }\n",
              "\n",
              "    .colab-df-convert {\n",
              "      background-color: #E8F0FE;\n",
              "      border: none;\n",
              "      border-radius: 50%;\n",
              "      cursor: pointer;\n",
              "      display: none;\n",
              "      fill: #1967D2;\n",
              "      height: 32px;\n",
              "      padding: 0 0 0 0;\n",
              "      width: 32px;\n",
              "    }\n",
              "\n",
              "    .colab-df-convert:hover {\n",
              "      background-color: #E2EBFA;\n",
              "      box-shadow: 0px 1px 2px rgba(60, 64, 67, 0.3), 0px 1px 3px 1px rgba(60, 64, 67, 0.15);\n",
              "      fill: #174EA6;\n",
              "    }\n",
              "\n",
              "    [theme=dark] .colab-df-convert {\n",
              "      background-color: #3B4455;\n",
              "      fill: #D2E3FC;\n",
              "    }\n",
              "\n",
              "    [theme=dark] .colab-df-convert:hover {\n",
              "      background-color: #434B5C;\n",
              "      box-shadow: 0px 1px 3px 1px rgba(0, 0, 0, 0.15);\n",
              "      filter: drop-shadow(0px 1px 2px rgba(0, 0, 0, 0.3));\n",
              "      fill: #FFFFFF;\n",
              "    }\n",
              "  </style>\n",
              "\n",
              "      <script>\n",
              "        const buttonEl =\n",
              "          document.querySelector('#df-ea93b205-875b-43cb-a73e-a2d1e14bf536 button.colab-df-convert');\n",
              "        buttonEl.style.display =\n",
              "          google.colab.kernel.accessAllowed ? 'block' : 'none';\n",
              "\n",
              "        async function convertToInteractive(key) {\n",
              "          const element = document.querySelector('#df-ea93b205-875b-43cb-a73e-a2d1e14bf536');\n",
              "          const dataTable =\n",
              "            await google.colab.kernel.invokeFunction('convertToInteractive',\n",
              "                                                     [key], {});\n",
              "          if (!dataTable) return;\n",
              "\n",
              "          const docLinkHtml = 'Like what you see? Visit the ' +\n",
              "            '<a target=\"_blank\" href=https://colab.research.google.com/notebooks/data_table.ipynb>data table notebook</a>'\n",
              "            + ' to learn more about interactive tables.';\n",
              "          element.innerHTML = '';\n",
              "          dataTable['output_type'] = 'display_data';\n",
              "          await google.colab.output.renderOutput(dataTable, element);\n",
              "          const docLink = document.createElement('div');\n",
              "          docLink.innerHTML = docLinkHtml;\n",
              "          element.appendChild(docLink);\n",
              "        }\n",
              "      </script>\n",
              "    </div>\n",
              "  </div>\n",
              "  "
            ]
          },
          "metadata": {},
          "execution_count": 56
        }
      ]
    },
    {
      "cell_type": "code",
      "metadata": {
        "deletable": false,
        "nbgrader": {
          "cell_type": "code",
          "checksum": "944c29ea60db2003f79d5623719b7de2",
          "grade": true,
          "grade_id": "cell-6439d3c648bd6354",
          "locked": false,
          "points": 1,
          "schema_version": 3,
          "solution": true,
          "task": false
        },
        "id": "ce49f841",
        "colab": {
          "base_uri": "https://localhost:8080/"
        },
        "outputId": "ecafb4cd-af29-423a-9c3d-a26acd4dec64"
      },
      "source": [
        "# Print the maximum and the minimum of each each feature\n",
        "\n",
        "### BEGIN SOLUTION\n",
        "print(\"Feature wise maxima\")\n",
        "print(df.max())\n",
        "print(\"Feature wise minima\")\n",
        "print(df.min())\n",
        "### END SOLUTION"
      ],
      "id": "ce49f841",
      "execution_count": null,
      "outputs": [
        {
          "output_type": "stream",
          "name": "stdout",
          "text": [
            "Feature wise maxima\n",
            "age    0.110727\n",
            "sex    0.050680\n",
            "bmi    0.170555\n",
            "bp     0.132044\n",
            "s1     0.153914\n",
            "s2     0.198788\n",
            "s3     0.181179\n",
            "s4     0.185234\n",
            "s5     0.133599\n",
            "s6     0.135612\n",
            "dtype: float64\n",
            "Feature wise minima\n",
            "age   -0.107226\n",
            "sex   -0.044642\n",
            "bmi   -0.090275\n",
            "bp    -0.112400\n",
            "s1    -0.126781\n",
            "s2    -0.115613\n",
            "s3    -0.102307\n",
            "s4    -0.076395\n",
            "s5    -0.126097\n",
            "s6    -0.137767\n",
            "dtype: float64\n"
          ]
        }
      ]
    },
    {
      "cell_type": "markdown",
      "metadata": {
        "deletable": false,
        "editable": false,
        "nbgrader": {
          "cell_type": "markdown",
          "checksum": "07e71d69fd7fcb2e5072d90d1e8261aa",
          "grade": false,
          "grade_id": "cell-122a7394a4fd6022",
          "locked": true,
          "schema_version": 3,
          "solution": false,
          "task": false
        },
        "id": "d09f5a9d"
      },
      "source": [
        "## Question 2\n",
        "Are the minimums and the maximums close to each other? Hence, do we need any normalization or standardization?"
      ],
      "id": "d09f5a9d"
    },
    {
      "cell_type": "markdown",
      "metadata": {
        "deletable": false,
        "nbgrader": {
          "cell_type": "markdown",
          "checksum": "eb4c48b5f15a378ea2383227385e59fc",
          "grade": true,
          "grade_id": "cell-39ab0e0fda0b0b7d",
          "locked": false,
          "points": 1,
          "schema_version": 3,
          "solution": true,
          "task": false
        },
        "id": "66de4799"
      },
      "source": [
        "ANSWER: Yes the minimums and the maximums are close to each other. Hence, we don't need any normalization or standardization."
      ],
      "id": "66de4799"
    },
    {
      "cell_type": "code",
      "metadata": {
        "deletable": false,
        "nbgrader": {
          "cell_type": "code",
          "checksum": "cfc379335ef61c931f3c5ab23814d943",
          "grade": true,
          "grade_id": "cell-f5765d21afe572e7",
          "locked": false,
          "points": 1,
          "schema_version": 3,
          "solution": true,
          "task": false
        },
        "id": "11a4efcd",
        "colab": {
          "base_uri": "https://localhost:8080/"
        },
        "outputId": "0148906e-3ac1-4312-d590-84d28edacda9"
      },
      "source": [
        "# Split the data into training and testing set, with 20% of the data in the testing set. Use random_state = 100\n",
        "# Then print the shapes of X_train and X_test to see how many samples are on each set\n",
        "\n",
        "X_train, X_test, y_train, y_test = None, None, None, None # replace with proper code\n",
        "\n",
        "### BEGIN SOLUTION\n",
        "X_train, X_test, y_train, y_test = train_test_split(X, y, test_size=0.20, random_state=100)\n",
        "print(\"X_train shape = \", X_train.shape)\n",
        "print(\"X_test shape = \", X_test.shape)\n",
        "### END SOLUTION"
      ],
      "id": "11a4efcd",
      "execution_count": null,
      "outputs": [
        {
          "output_type": "stream",
          "name": "stdout",
          "text": [
            "X_train shape =  (353, 10)\n",
            "X_test shape =  (89, 10)\n"
          ]
        }
      ]
    },
    {
      "cell_type": "code",
      "metadata": {
        "deletable": false,
        "nbgrader": {
          "cell_type": "code",
          "checksum": "09f8411a4c260e4d265c52b95005680e",
          "grade": true,
          "grade_id": "cell-b7d35e02e74b752c",
          "locked": false,
          "points": 3,
          "schema_version": 3,
          "solution": true,
          "task": false
        },
        "id": "c99d7980",
        "colab": {
          "base_uri": "https://localhost:8080/"
        },
        "outputId": "d37b1014-edca-44fc-a745-1131e6e9403e"
      },
      "source": [
        "# Fit a linear regression model on X_train, y_train\n",
        "# predict the model's output for X_train and save it to y_predict_train\n",
        "# predict the model's output for X_test and save it to y_predict_test\n",
        "\n",
        "\n",
        "### BEGIN SOLUTION\n",
        "model = linear_model.LinearRegression()\n",
        "model = model.fit(X_train, y_train)\n",
        "y_predict_train = model.predict(X_train)\n",
        "y_predict_test = model.predict(X_test)\n",
        "\n",
        "theta0 = model.intercept_\n",
        "theta1 = model.coef_\n",
        "print(theta0)\n",
        "print(theta1)\n",
        "### END SOLUTION"
      ],
      "id": "c99d7980",
      "execution_count": null,
      "outputs": [
        {
          "output_type": "stream",
          "name": "stdout",
          "text": [
            "152.5588599757756\n",
            "[ -56.33541735 -221.15187831  545.39513939  333.32016358 -826.94615703\n",
            "  535.43545737  138.16986492  142.31707976  809.68356442   48.22975786]\n"
          ]
        }
      ]
    },
    {
      "cell_type": "code",
      "metadata": {
        "deletable": false,
        "nbgrader": {
          "cell_type": "code",
          "checksum": "085adc72ab0f0892f3e97a457f238fab",
          "grade": true,
          "grade_id": "cell-a0556858b4619d5a",
          "locked": false,
          "points": 2,
          "schema_version": 3,
          "solution": true,
          "task": false
        },
        "id": "40b3f28b",
        "colab": {
          "base_uri": "https://localhost:8080/"
        },
        "outputId": "4ca11b85-50b4-4f7e-9423-0055fd8d1a66"
      },
      "source": [
        "# Calculate a suitable performance metric for the training set for this regression problem\n",
        "# Calculate a suitable performance metric for the test set for this regression problem\n",
        "# Print the values\n",
        "\n",
        "performance_train = None\n",
        "performance_test = None\n",
        "\n",
        "### BEGIN SOLUTION\n",
        "performance_train = np.mean((y_train - model.predict(X_train))**2)\n",
        "performance_test = np.mean((y_test - y_predict_test)**2)\n",
        "print(\"performance_train =\", performance_train)\n",
        "print(\"performance_test =\", performance_test)\n",
        "### END SOLUTION"
      ],
      "id": "40b3f28b",
      "execution_count": null,
      "outputs": [
        {
          "output_type": "stream",
          "name": "stdout",
          "text": [
            "performance_train = 2927.9778026012445\n",
            "performance_test = 2634.8227134025797\n"
          ]
        }
      ]
    },
    {
      "cell_type": "markdown",
      "metadata": {
        "deletable": false,
        "editable": false,
        "nbgrader": {
          "cell_type": "markdown",
          "checksum": "20003a15d25b627f4725b0a4b84294f8",
          "grade": false,
          "grade_id": "cell-b6a0b1cb5248fa1c",
          "locked": true,
          "schema_version": 3,
          "solution": false,
          "task": false
        },
        "id": "c43a5b81"
      },
      "source": [
        "## Question 3\n",
        "- Which performance metric did you use and why?\n",
        "- Given the minimum and the maximum of `y` are 25 and 346, respectively, is this a good model for the dataset? Why or why not?\n",
        "- Suggest some ways (at least one) that might improve the performance metric"
      ],
      "id": "c43a5b81"
    },
    {
      "cell_type": "markdown",
      "metadata": {
        "deletable": false,
        "nbgrader": {
          "cell_type": "markdown",
          "checksum": "ed0b926b3bf1872885e69175f5fb9256",
          "grade": true,
          "grade_id": "cell-aaf468f7a8397045",
          "locked": false,
          "points": 6,
          "schema_version": 3,
          "solution": true,
          "task": false
        },
        "id": "34453ce6"
      },
      "source": [
        "YOUR ANSWER HERE\n",
        "1. I used MSE performance metric\n",
        "2. No, this is not a good model for the dataset because the difference of minimum and miximum is not close enough.\n",
        "3. Mean Average Error might improve the performance metric."
      ],
      "id": "34453ce6"
    },
    {
      "cell_type": "markdown",
      "metadata": {
        "deletable": false,
        "editable": false,
        "nbgrader": {
          "cell_type": "markdown",
          "checksum": "763826310f3d9155ed2d80a5ebda6790",
          "grade": false,
          "grade_id": "cell-d6c580e6e22f1e37",
          "locked": true,
          "schema_version": 3,
          "solution": false,
          "task": false
        },
        "id": "bf643627"
      },
      "source": [
        "# Classification"
      ],
      "id": "bf643627"
    },
    {
      "cell_type": "code",
      "metadata": {
        "deletable": false,
        "editable": false,
        "nbgrader": {
          "cell_type": "code",
          "checksum": "540490120144eba74a27d46eaa70ab96",
          "grade": false,
          "grade_id": "cell-a6f8ea3a12b90773",
          "locked": true,
          "schema_version": 3,
          "solution": false,
          "task": false
        },
        "id": "61c867b4",
        "colab": {
          "base_uri": "https://localhost:8080/",
          "height": 288
        },
        "outputId": "0eecf44e-0a0e-4884-fa6d-df1d49e4190c"
      },
      "source": [
        "# Import the sonar dataset (contained in the sonar_data.csv file)\n",
        "df = pd.read_csv(\"sonar_data.csv\")\n",
        "\n",
        "# Split it into X and y\n",
        "X = df.drop(columns=['y']).values\n",
        "y = df['y'].values\n",
        "print(\"Shape of X -\", X.shape)\n",
        "print(\"Shape of y -\", y.shape)\n",
        "print(\"Unique values of y -\", np.unique(y))\n",
        "\n",
        "# Printing the first 5 rows\n",
        "df.head()\n"
      ],
      "id": "61c867b4",
      "execution_count": null,
      "outputs": [
        {
          "output_type": "stream",
          "name": "stdout",
          "text": [
            "Shape of X - (208, 60)\n",
            "Shape of y - (208,)\n",
            "Unique values of y - [0 1]\n"
          ]
        },
        {
          "output_type": "execute_result",
          "data": {
            "text/plain": [
              "       x1      x2       x3       x4      x5       x6      x7      x8       x9  \\\n",
              "0 -4.7000  2.9275  25.0272  10.4968 -3.1874  21.4930 -3.3071  4.5616  30.9744   \n",
              "1 -4.3205  3.3075  26.0232  11.6536 -2.7523  22.2915 -2.6284  7.5696  31.3392   \n",
              "2 -4.6070  3.4550  26.6376  12.5992 -3.1494  22.1400 -2.3259  8.0336  34.9568   \n",
              "3 -4.8500  2.4275  25.4952  10.4920 -4.6105  21.1840 -3.7922  4.0416  26.9568   \n",
              "4 -3.8570  3.6650  25.1544  10.9456 -3.8790  21.3245 -3.6701  5.9472  31.7024   \n",
              "\n",
              "      x10  ...     x52     x53      x54      x55      x56      x57      x58  \\\n",
              "0  1.8999  ...  9.0405  5.1430  29.2703  20.1728  13.1336  16.1080  23.1764   \n",
              "1  2.5848  ...  9.1260  5.1958  29.0816  20.2256  13.1528  16.0840  23.1029   \n",
              "2  5.5746  ...  9.3480  5.3652  29.1615  20.4320  13.1952  16.1896  23.3444   \n",
              "3  1.1376  ...  9.1815  5.0792  29.2550  20.2040  13.0584  16.0300  23.0924   \n",
              "4  4.0131  ...  9.0465  5.1188  29.1785  20.2640  13.0120  16.0432  23.1008   \n",
              "\n",
              "      x59     x60  y  \n",
              "0  8.0630  3.0800  0  \n",
              "1  8.0364  3.1100  0  \n",
              "2  8.0665  3.1950  0  \n",
              "3  8.0280  3.2925  0  \n",
              "4  8.0749  3.2350  0  \n",
              "\n",
              "[5 rows x 61 columns]"
            ],
            "text/html": [
              "\n",
              "  <div id=\"df-1c5f89fe-9682-47b6-9346-4e198764d578\">\n",
              "    <div class=\"colab-df-container\">\n",
              "      <div>\n",
              "<style scoped>\n",
              "    .dataframe tbody tr th:only-of-type {\n",
              "        vertical-align: middle;\n",
              "    }\n",
              "\n",
              "    .dataframe tbody tr th {\n",
              "        vertical-align: top;\n",
              "    }\n",
              "\n",
              "    .dataframe thead th {\n",
              "        text-align: right;\n",
              "    }\n",
              "</style>\n",
              "<table border=\"1\" class=\"dataframe\">\n",
              "  <thead>\n",
              "    <tr style=\"text-align: right;\">\n",
              "      <th></th>\n",
              "      <th>x1</th>\n",
              "      <th>x2</th>\n",
              "      <th>x3</th>\n",
              "      <th>x4</th>\n",
              "      <th>x5</th>\n",
              "      <th>x6</th>\n",
              "      <th>x7</th>\n",
              "      <th>x8</th>\n",
              "      <th>x9</th>\n",
              "      <th>x10</th>\n",
              "      <th>...</th>\n",
              "      <th>x52</th>\n",
              "      <th>x53</th>\n",
              "      <th>x54</th>\n",
              "      <th>x55</th>\n",
              "      <th>x56</th>\n",
              "      <th>x57</th>\n",
              "      <th>x58</th>\n",
              "      <th>x59</th>\n",
              "      <th>x60</th>\n",
              "      <th>y</th>\n",
              "    </tr>\n",
              "  </thead>\n",
              "  <tbody>\n",
              "    <tr>\n",
              "      <th>0</th>\n",
              "      <td>-4.7000</td>\n",
              "      <td>2.9275</td>\n",
              "      <td>25.0272</td>\n",
              "      <td>10.4968</td>\n",
              "      <td>-3.1874</td>\n",
              "      <td>21.4930</td>\n",
              "      <td>-3.3071</td>\n",
              "      <td>4.5616</td>\n",
              "      <td>30.9744</td>\n",
              "      <td>1.8999</td>\n",
              "      <td>...</td>\n",
              "      <td>9.0405</td>\n",
              "      <td>5.1430</td>\n",
              "      <td>29.2703</td>\n",
              "      <td>20.1728</td>\n",
              "      <td>13.1336</td>\n",
              "      <td>16.1080</td>\n",
              "      <td>23.1764</td>\n",
              "      <td>8.0630</td>\n",
              "      <td>3.0800</td>\n",
              "      <td>0</td>\n",
              "    </tr>\n",
              "    <tr>\n",
              "      <th>1</th>\n",
              "      <td>-4.3205</td>\n",
              "      <td>3.3075</td>\n",
              "      <td>26.0232</td>\n",
              "      <td>11.6536</td>\n",
              "      <td>-2.7523</td>\n",
              "      <td>22.2915</td>\n",
              "      <td>-2.6284</td>\n",
              "      <td>7.5696</td>\n",
              "      <td>31.3392</td>\n",
              "      <td>2.5848</td>\n",
              "      <td>...</td>\n",
              "      <td>9.1260</td>\n",
              "      <td>5.1958</td>\n",
              "      <td>29.0816</td>\n",
              "      <td>20.2256</td>\n",
              "      <td>13.1528</td>\n",
              "      <td>16.0840</td>\n",
              "      <td>23.1029</td>\n",
              "      <td>8.0364</td>\n",
              "      <td>3.1100</td>\n",
              "      <td>0</td>\n",
              "    </tr>\n",
              "    <tr>\n",
              "      <th>2</th>\n",
              "      <td>-4.6070</td>\n",
              "      <td>3.4550</td>\n",
              "      <td>26.6376</td>\n",
              "      <td>12.5992</td>\n",
              "      <td>-3.1494</td>\n",
              "      <td>22.1400</td>\n",
              "      <td>-2.3259</td>\n",
              "      <td>8.0336</td>\n",
              "      <td>34.9568</td>\n",
              "      <td>5.5746</td>\n",
              "      <td>...</td>\n",
              "      <td>9.3480</td>\n",
              "      <td>5.3652</td>\n",
              "      <td>29.1615</td>\n",
              "      <td>20.4320</td>\n",
              "      <td>13.1952</td>\n",
              "      <td>16.1896</td>\n",
              "      <td>23.3444</td>\n",
              "      <td>8.0665</td>\n",
              "      <td>3.1950</td>\n",
              "      <td>0</td>\n",
              "    </tr>\n",
              "    <tr>\n",
              "      <th>3</th>\n",
              "      <td>-4.8500</td>\n",
              "      <td>2.4275</td>\n",
              "      <td>25.4952</td>\n",
              "      <td>10.4920</td>\n",
              "      <td>-4.6105</td>\n",
              "      <td>21.1840</td>\n",
              "      <td>-3.7922</td>\n",
              "      <td>4.0416</td>\n",
              "      <td>26.9568</td>\n",
              "      <td>1.1376</td>\n",
              "      <td>...</td>\n",
              "      <td>9.1815</td>\n",
              "      <td>5.0792</td>\n",
              "      <td>29.2550</td>\n",
              "      <td>20.2040</td>\n",
              "      <td>13.0584</td>\n",
              "      <td>16.0300</td>\n",
              "      <td>23.0924</td>\n",
              "      <td>8.0280</td>\n",
              "      <td>3.2925</td>\n",
              "      <td>0</td>\n",
              "    </tr>\n",
              "    <tr>\n",
              "      <th>4</th>\n",
              "      <td>-3.8570</td>\n",
              "      <td>3.6650</td>\n",
              "      <td>25.1544</td>\n",
              "      <td>10.9456</td>\n",
              "      <td>-3.8790</td>\n",
              "      <td>21.3245</td>\n",
              "      <td>-3.6701</td>\n",
              "      <td>5.9472</td>\n",
              "      <td>31.7024</td>\n",
              "      <td>4.0131</td>\n",
              "      <td>...</td>\n",
              "      <td>9.0465</td>\n",
              "      <td>5.1188</td>\n",
              "      <td>29.1785</td>\n",
              "      <td>20.2640</td>\n",
              "      <td>13.0120</td>\n",
              "      <td>16.0432</td>\n",
              "      <td>23.1008</td>\n",
              "      <td>8.0749</td>\n",
              "      <td>3.2350</td>\n",
              "      <td>0</td>\n",
              "    </tr>\n",
              "  </tbody>\n",
              "</table>\n",
              "<p>5 rows × 61 columns</p>\n",
              "</div>\n",
              "      <button class=\"colab-df-convert\" onclick=\"convertToInteractive('df-1c5f89fe-9682-47b6-9346-4e198764d578')\"\n",
              "              title=\"Convert this dataframe to an interactive table.\"\n",
              "              style=\"display:none;\">\n",
              "        \n",
              "  <svg xmlns=\"http://www.w3.org/2000/svg\" height=\"24px\"viewBox=\"0 0 24 24\"\n",
              "       width=\"24px\">\n",
              "    <path d=\"M0 0h24v24H0V0z\" fill=\"none\"/>\n",
              "    <path d=\"M18.56 5.44l.94 2.06.94-2.06 2.06-.94-2.06-.94-.94-2.06-.94 2.06-2.06.94zm-11 1L8.5 8.5l.94-2.06 2.06-.94-2.06-.94L8.5 2.5l-.94 2.06-2.06.94zm10 10l.94 2.06.94-2.06 2.06-.94-2.06-.94-.94-2.06-.94 2.06-2.06.94z\"/><path d=\"M17.41 7.96l-1.37-1.37c-.4-.4-.92-.59-1.43-.59-.52 0-1.04.2-1.43.59L10.3 9.45l-7.72 7.72c-.78.78-.78 2.05 0 2.83L4 21.41c.39.39.9.59 1.41.59.51 0 1.02-.2 1.41-.59l7.78-7.78 2.81-2.81c.8-.78.8-2.07 0-2.86zM5.41 20L4 18.59l7.72-7.72 1.47 1.35L5.41 20z\"/>\n",
              "  </svg>\n",
              "      </button>\n",
              "      \n",
              "  <style>\n",
              "    .colab-df-container {\n",
              "      display:flex;\n",
              "      flex-wrap:wrap;\n",
              "      gap: 12px;\n",
              "    }\n",
              "\n",
              "    .colab-df-convert {\n",
              "      background-color: #E8F0FE;\n",
              "      border: none;\n",
              "      border-radius: 50%;\n",
              "      cursor: pointer;\n",
              "      display: none;\n",
              "      fill: #1967D2;\n",
              "      height: 32px;\n",
              "      padding: 0 0 0 0;\n",
              "      width: 32px;\n",
              "    }\n",
              "\n",
              "    .colab-df-convert:hover {\n",
              "      background-color: #E2EBFA;\n",
              "      box-shadow: 0px 1px 2px rgba(60, 64, 67, 0.3), 0px 1px 3px 1px rgba(60, 64, 67, 0.15);\n",
              "      fill: #174EA6;\n",
              "    }\n",
              "\n",
              "    [theme=dark] .colab-df-convert {\n",
              "      background-color: #3B4455;\n",
              "      fill: #D2E3FC;\n",
              "    }\n",
              "\n",
              "    [theme=dark] .colab-df-convert:hover {\n",
              "      background-color: #434B5C;\n",
              "      box-shadow: 0px 1px 3px 1px rgba(0, 0, 0, 0.15);\n",
              "      filter: drop-shadow(0px 1px 2px rgba(0, 0, 0, 0.3));\n",
              "      fill: #FFFFFF;\n",
              "    }\n",
              "  </style>\n",
              "\n",
              "      <script>\n",
              "        const buttonEl =\n",
              "          document.querySelector('#df-1c5f89fe-9682-47b6-9346-4e198764d578 button.colab-df-convert');\n",
              "        buttonEl.style.display =\n",
              "          google.colab.kernel.accessAllowed ? 'block' : 'none';\n",
              "\n",
              "        async function convertToInteractive(key) {\n",
              "          const element = document.querySelector('#df-1c5f89fe-9682-47b6-9346-4e198764d578');\n",
              "          const dataTable =\n",
              "            await google.colab.kernel.invokeFunction('convertToInteractive',\n",
              "                                                     [key], {});\n",
              "          if (!dataTable) return;\n",
              "\n",
              "          const docLinkHtml = 'Like what you see? Visit the ' +\n",
              "            '<a target=\"_blank\" href=https://colab.research.google.com/notebooks/data_table.ipynb>data table notebook</a>'\n",
              "            + ' to learn more about interactive tables.';\n",
              "          element.innerHTML = '';\n",
              "          dataTable['output_type'] = 'display_data';\n",
              "          await google.colab.output.renderOutput(dataTable, element);\n",
              "          const docLink = document.createElement('div');\n",
              "          docLink.innerHTML = docLinkHtml;\n",
              "          element.appendChild(docLink);\n",
              "        }\n",
              "      </script>\n",
              "    </div>\n",
              "  </div>\n",
              "  "
            ]
          },
          "metadata": {},
          "execution_count": 61
        }
      ]
    },
    {
      "cell_type": "markdown",
      "metadata": {
        "deletable": false,
        "editable": false,
        "nbgrader": {
          "cell_type": "markdown",
          "checksum": "f0c23ab1c6704d697c0fb167ac905cc7",
          "grade": false,
          "grade_id": "cell-31cd472e9596e497",
          "locked": true,
          "schema_version": 3,
          "solution": false,
          "task": false
        },
        "id": "83e8879d"
      },
      "source": [
        "## Question 4\n",
        "Why do we need normalization/standardization in this case?"
      ],
      "id": "83e8879d"
    },
    {
      "cell_type": "markdown",
      "metadata": {
        "deletable": false,
        "nbgrader": {
          "cell_type": "markdown",
          "checksum": "ce6078071530406aa7c2dbc1bce815dc",
          "grade": true,
          "grade_id": "cell-a599631efc396bd4",
          "locked": false,
          "points": 2,
          "schema_version": 3,
          "solution": true,
          "task": false
        },
        "id": "fcd61c19"
      },
      "source": [
        "YOUR ANSWER HERE\n",
        "Normalization is necessary to ensure that the table only contains data directly related to the primary key, each data field contains only one data element, and to remove redundant (duplicated and unnecessary) data."
      ],
      "id": "fcd61c19"
    },
    {
      "cell_type": "code",
      "metadata": {
        "deletable": false,
        "nbgrader": {
          "cell_type": "code",
          "checksum": "33e948bd10f5c9fac17b5991e10022d3",
          "grade": true,
          "grade_id": "cell-f60b8a34feb6bcdb",
          "locked": false,
          "points": 2,
          "schema_version": 3,
          "solution": true,
          "task": false
        },
        "id": "89c187d5",
        "colab": {
          "base_uri": "https://localhost:8080/",
          "height": 299
        },
        "outputId": "178e77cd-a2b2-4b8f-bbe0-ba1c2c09a216"
      },
      "source": [
        "# Use min-max scaling to normalize the features of X. Save the normalized array as X_norm.\n",
        "X_norm = X # REPLACE WITH APPROPRIATE CODE\n",
        "\n",
        "# To confirm that it is now normalized, use the follwing code\n",
        "#df_norm = pd.DataFrame(X_norm, columns=df.columns[:-1])\n",
        "#df_norm.head()\n",
        "\n",
        "### BEGIN SOLUTION\n",
        "X_norm = preprocessing.minmax_scale(X)\n",
        "df_norm = pd.DataFrame(X_norm, columns=df.columns[:-1])\n",
        "df_norm.head()\n",
        "### END SOLUTION"
      ],
      "id": "89c187d5",
      "execution_count": null,
      "outputs": [
        {
          "output_type": "execute_result",
          "data": {
            "text/plain": [
              "         x1        x2        x3        x4        x5        x6        x7  \\\n",
              "0  0.136431  0.156451  0.135677  0.035426  0.224956  0.237571  0.407468   \n",
              "1  0.323009  0.221603  0.272011  0.150024  0.283033  0.666756  0.574405   \n",
              "2  0.182153  0.246892  0.356110  0.243699  0.230028  0.585327  0.648810   \n",
              "3  0.062684  0.070724  0.199737  0.034950  0.034999  0.071486  0.288149   \n",
              "4  0.550885  0.282898  0.153088  0.079886  0.132640  0.147003  0.318182   \n",
              "\n",
              "         x8        x9       x10  ...       x51       x52       x53       x54  \\\n",
              "0  0.340904  0.449282  0.285714  ...  0.231076  0.027104  0.155844  0.435673   \n",
              "1  0.755458  0.483045  0.394537  ...  0.124502  0.108417  0.218182  0.111111   \n",
              "2  0.819405  0.817859  0.869584  ...  0.032869  0.319544  0.418182  0.248538   \n",
              "3  0.269239  0.077447  0.164593  ...  0.240040  0.161198  0.080519  0.409357   \n",
              "4  0.531863  0.516659  0.621479  ...  0.155378  0.032810  0.127273  0.277778   \n",
              "\n",
              "        x55       x56       x57       x58       x59       x60  \n",
              "0  0.149660  0.417949  0.502841  0.185355  0.245179  0.060046  \n",
              "1  0.199546  0.479487  0.389205  0.105263  0.140496  0.087760  \n",
              "2  0.394558  0.615385  0.889205  0.368421  0.258953  0.166282  \n",
              "3  0.179138  0.176923  0.133523  0.093822  0.107438  0.256351  \n",
              "4  0.235828  0.028205  0.196023  0.102975  0.292011  0.203233  \n",
              "\n",
              "[5 rows x 60 columns]"
            ],
            "text/html": [
              "\n",
              "  <div id=\"df-ebd66b35-5674-43fe-8dd2-b30f0517d6ee\">\n",
              "    <div class=\"colab-df-container\">\n",
              "      <div>\n",
              "<style scoped>\n",
              "    .dataframe tbody tr th:only-of-type {\n",
              "        vertical-align: middle;\n",
              "    }\n",
              "\n",
              "    .dataframe tbody tr th {\n",
              "        vertical-align: top;\n",
              "    }\n",
              "\n",
              "    .dataframe thead th {\n",
              "        text-align: right;\n",
              "    }\n",
              "</style>\n",
              "<table border=\"1\" class=\"dataframe\">\n",
              "  <thead>\n",
              "    <tr style=\"text-align: right;\">\n",
              "      <th></th>\n",
              "      <th>x1</th>\n",
              "      <th>x2</th>\n",
              "      <th>x3</th>\n",
              "      <th>x4</th>\n",
              "      <th>x5</th>\n",
              "      <th>x6</th>\n",
              "      <th>x7</th>\n",
              "      <th>x8</th>\n",
              "      <th>x9</th>\n",
              "      <th>x10</th>\n",
              "      <th>...</th>\n",
              "      <th>x51</th>\n",
              "      <th>x52</th>\n",
              "      <th>x53</th>\n",
              "      <th>x54</th>\n",
              "      <th>x55</th>\n",
              "      <th>x56</th>\n",
              "      <th>x57</th>\n",
              "      <th>x58</th>\n",
              "      <th>x59</th>\n",
              "      <th>x60</th>\n",
              "    </tr>\n",
              "  </thead>\n",
              "  <tbody>\n",
              "    <tr>\n",
              "      <th>0</th>\n",
              "      <td>0.136431</td>\n",
              "      <td>0.156451</td>\n",
              "      <td>0.135677</td>\n",
              "      <td>0.035426</td>\n",
              "      <td>0.224956</td>\n",
              "      <td>0.237571</td>\n",
              "      <td>0.407468</td>\n",
              "      <td>0.340904</td>\n",
              "      <td>0.449282</td>\n",
              "      <td>0.285714</td>\n",
              "      <td>...</td>\n",
              "      <td>0.231076</td>\n",
              "      <td>0.027104</td>\n",
              "      <td>0.155844</td>\n",
              "      <td>0.435673</td>\n",
              "      <td>0.149660</td>\n",
              "      <td>0.417949</td>\n",
              "      <td>0.502841</td>\n",
              "      <td>0.185355</td>\n",
              "      <td>0.245179</td>\n",
              "      <td>0.060046</td>\n",
              "    </tr>\n",
              "    <tr>\n",
              "      <th>1</th>\n",
              "      <td>0.323009</td>\n",
              "      <td>0.221603</td>\n",
              "      <td>0.272011</td>\n",
              "      <td>0.150024</td>\n",
              "      <td>0.283033</td>\n",
              "      <td>0.666756</td>\n",
              "      <td>0.574405</td>\n",
              "      <td>0.755458</td>\n",
              "      <td>0.483045</td>\n",
              "      <td>0.394537</td>\n",
              "      <td>...</td>\n",
              "      <td>0.124502</td>\n",
              "      <td>0.108417</td>\n",
              "      <td>0.218182</td>\n",
              "      <td>0.111111</td>\n",
              "      <td>0.199546</td>\n",
              "      <td>0.479487</td>\n",
              "      <td>0.389205</td>\n",
              "      <td>0.105263</td>\n",
              "      <td>0.140496</td>\n",
              "      <td>0.087760</td>\n",
              "    </tr>\n",
              "    <tr>\n",
              "      <th>2</th>\n",
              "      <td>0.182153</td>\n",
              "      <td>0.246892</td>\n",
              "      <td>0.356110</td>\n",
              "      <td>0.243699</td>\n",
              "      <td>0.230028</td>\n",
              "      <td>0.585327</td>\n",
              "      <td>0.648810</td>\n",
              "      <td>0.819405</td>\n",
              "      <td>0.817859</td>\n",
              "      <td>0.869584</td>\n",
              "      <td>...</td>\n",
              "      <td>0.032869</td>\n",
              "      <td>0.319544</td>\n",
              "      <td>0.418182</td>\n",
              "      <td>0.248538</td>\n",
              "      <td>0.394558</td>\n",
              "      <td>0.615385</td>\n",
              "      <td>0.889205</td>\n",
              "      <td>0.368421</td>\n",
              "      <td>0.258953</td>\n",
              "      <td>0.166282</td>\n",
              "    </tr>\n",
              "    <tr>\n",
              "      <th>3</th>\n",
              "      <td>0.062684</td>\n",
              "      <td>0.070724</td>\n",
              "      <td>0.199737</td>\n",
              "      <td>0.034950</td>\n",
              "      <td>0.034999</td>\n",
              "      <td>0.071486</td>\n",
              "      <td>0.288149</td>\n",
              "      <td>0.269239</td>\n",
              "      <td>0.077447</td>\n",
              "      <td>0.164593</td>\n",
              "      <td>...</td>\n",
              "      <td>0.240040</td>\n",
              "      <td>0.161198</td>\n",
              "      <td>0.080519</td>\n",
              "      <td>0.409357</td>\n",
              "      <td>0.179138</td>\n",
              "      <td>0.176923</td>\n",
              "      <td>0.133523</td>\n",
              "      <td>0.093822</td>\n",
              "      <td>0.107438</td>\n",
              "      <td>0.256351</td>\n",
              "    </tr>\n",
              "    <tr>\n",
              "      <th>4</th>\n",
              "      <td>0.550885</td>\n",
              "      <td>0.282898</td>\n",
              "      <td>0.153088</td>\n",
              "      <td>0.079886</td>\n",
              "      <td>0.132640</td>\n",
              "      <td>0.147003</td>\n",
              "      <td>0.318182</td>\n",
              "      <td>0.531863</td>\n",
              "      <td>0.516659</td>\n",
              "      <td>0.621479</td>\n",
              "      <td>...</td>\n",
              "      <td>0.155378</td>\n",
              "      <td>0.032810</td>\n",
              "      <td>0.127273</td>\n",
              "      <td>0.277778</td>\n",
              "      <td>0.235828</td>\n",
              "      <td>0.028205</td>\n",
              "      <td>0.196023</td>\n",
              "      <td>0.102975</td>\n",
              "      <td>0.292011</td>\n",
              "      <td>0.203233</td>\n",
              "    </tr>\n",
              "  </tbody>\n",
              "</table>\n",
              "<p>5 rows × 60 columns</p>\n",
              "</div>\n",
              "      <button class=\"colab-df-convert\" onclick=\"convertToInteractive('df-ebd66b35-5674-43fe-8dd2-b30f0517d6ee')\"\n",
              "              title=\"Convert this dataframe to an interactive table.\"\n",
              "              style=\"display:none;\">\n",
              "        \n",
              "  <svg xmlns=\"http://www.w3.org/2000/svg\" height=\"24px\"viewBox=\"0 0 24 24\"\n",
              "       width=\"24px\">\n",
              "    <path d=\"M0 0h24v24H0V0z\" fill=\"none\"/>\n",
              "    <path d=\"M18.56 5.44l.94 2.06.94-2.06 2.06-.94-2.06-.94-.94-2.06-.94 2.06-2.06.94zm-11 1L8.5 8.5l.94-2.06 2.06-.94-2.06-.94L8.5 2.5l-.94 2.06-2.06.94zm10 10l.94 2.06.94-2.06 2.06-.94-2.06-.94-.94-2.06-.94 2.06-2.06.94z\"/><path d=\"M17.41 7.96l-1.37-1.37c-.4-.4-.92-.59-1.43-.59-.52 0-1.04.2-1.43.59L10.3 9.45l-7.72 7.72c-.78.78-.78 2.05 0 2.83L4 21.41c.39.39.9.59 1.41.59.51 0 1.02-.2 1.41-.59l7.78-7.78 2.81-2.81c.8-.78.8-2.07 0-2.86zM5.41 20L4 18.59l7.72-7.72 1.47 1.35L5.41 20z\"/>\n",
              "  </svg>\n",
              "      </button>\n",
              "      \n",
              "  <style>\n",
              "    .colab-df-container {\n",
              "      display:flex;\n",
              "      flex-wrap:wrap;\n",
              "      gap: 12px;\n",
              "    }\n",
              "\n",
              "    .colab-df-convert {\n",
              "      background-color: #E8F0FE;\n",
              "      border: none;\n",
              "      border-radius: 50%;\n",
              "      cursor: pointer;\n",
              "      display: none;\n",
              "      fill: #1967D2;\n",
              "      height: 32px;\n",
              "      padding: 0 0 0 0;\n",
              "      width: 32px;\n",
              "    }\n",
              "\n",
              "    .colab-df-convert:hover {\n",
              "      background-color: #E2EBFA;\n",
              "      box-shadow: 0px 1px 2px rgba(60, 64, 67, 0.3), 0px 1px 3px 1px rgba(60, 64, 67, 0.15);\n",
              "      fill: #174EA6;\n",
              "    }\n",
              "\n",
              "    [theme=dark] .colab-df-convert {\n",
              "      background-color: #3B4455;\n",
              "      fill: #D2E3FC;\n",
              "    }\n",
              "\n",
              "    [theme=dark] .colab-df-convert:hover {\n",
              "      background-color: #434B5C;\n",
              "      box-shadow: 0px 1px 3px 1px rgba(0, 0, 0, 0.15);\n",
              "      filter: drop-shadow(0px 1px 2px rgba(0, 0, 0, 0.3));\n",
              "      fill: #FFFFFF;\n",
              "    }\n",
              "  </style>\n",
              "\n",
              "      <script>\n",
              "        const buttonEl =\n",
              "          document.querySelector('#df-ebd66b35-5674-43fe-8dd2-b30f0517d6ee button.colab-df-convert');\n",
              "        buttonEl.style.display =\n",
              "          google.colab.kernel.accessAllowed ? 'block' : 'none';\n",
              "\n",
              "        async function convertToInteractive(key) {\n",
              "          const element = document.querySelector('#df-ebd66b35-5674-43fe-8dd2-b30f0517d6ee');\n",
              "          const dataTable =\n",
              "            await google.colab.kernel.invokeFunction('convertToInteractive',\n",
              "                                                     [key], {});\n",
              "          if (!dataTable) return;\n",
              "\n",
              "          const docLinkHtml = 'Like what you see? Visit the ' +\n",
              "            '<a target=\"_blank\" href=https://colab.research.google.com/notebooks/data_table.ipynb>data table notebook</a>'\n",
              "            + ' to learn more about interactive tables.';\n",
              "          element.innerHTML = '';\n",
              "          dataTable['output_type'] = 'display_data';\n",
              "          await google.colab.output.renderOutput(dataTable, element);\n",
              "          const docLink = document.createElement('div');\n",
              "          docLink.innerHTML = docLinkHtml;\n",
              "          element.appendChild(docLink);\n",
              "        }\n",
              "      </script>\n",
              "    </div>\n",
              "  </div>\n",
              "  "
            ]
          },
          "metadata": {},
          "execution_count": 62
        }
      ]
    },
    {
      "cell_type": "code",
      "metadata": {
        "deletable": false,
        "nbgrader": {
          "cell_type": "code",
          "checksum": "90b1a36f7368a5c60dfe9bbf45243fe8",
          "grade": true,
          "grade_id": "cell-306bb7f1b779b785",
          "locked": false,
          "points": 2,
          "schema_version": 3,
          "solution": true,
          "task": false
        },
        "id": "919d4e97",
        "colab": {
          "base_uri": "https://localhost:8080/"
        },
        "outputId": "4b051554-458f-4f8c-e721-aba3b015d876"
      },
      "source": [
        "# Split the dataset (X_norm, y) into 85% training - 15% testing\n",
        "# Then split the (X_train, y_train) again into 85% training and 15% validation.\n",
        "# In both cases, use random_state=100\n",
        "# Finally, print the shape of the X_train, X_valid, and X_test\n",
        "\n",
        "X_train, X_test, y_train, y_test = None, None, None, None # replace with proper code\n",
        "X_train, X_valid, y_train, y_valid = None, None, None, None # replace with proper code\n",
        "\n",
        "### BEGIN SOLUTION\n",
        "X_train, X_test, y_train, y_test = train_test_split(X, y, test_size=0.15, random_state=100)\n",
        "\n",
        "X_train, X_valid, y_train, y_valid = train_test_split(X_train, y_train, test_size=0.15, random_state=100)\n",
        "print(\"X_train shape = \", X_train.shape)\n",
        "print(\"X_valid shape = \", X_valid.shape)\n",
        "print(\"X_test shape = \", X_test.shape)\n",
        "\n",
        "### END SOLUTION"
      ],
      "id": "919d4e97",
      "execution_count": null,
      "outputs": [
        {
          "output_type": "stream",
          "name": "stdout",
          "text": [
            "X_train shape =  (149, 60)\n",
            "X_valid shape =  (27, 60)\n",
            "X_test shape =  (32, 60)\n"
          ]
        }
      ]
    },
    {
      "cell_type": "markdown",
      "metadata": {
        "deletable": false,
        "editable": false,
        "nbgrader": {
          "cell_type": "markdown",
          "checksum": "1eacd66acc8a4928f706fcc93fb3f865",
          "grade": false,
          "grade_id": "cell-017446ba40c241cc",
          "locked": true,
          "schema_version": 3,
          "solution": false,
          "task": false
        },
        "id": "7417d60c"
      },
      "source": [
        "## Quesion 5\n",
        "We want to fit a Logistic Regression model. However, instead of manually setting the value of C (the inverse of the regularization strength), we want find the optimum value.\n",
        "- On which data (train/test/valid) should we calculate the performance metric to find the optimum value of C?"
      ],
      "id": "7417d60c"
    },
    {
      "cell_type": "markdown",
      "metadata": {
        "deletable": false,
        "nbgrader": {
          "cell_type": "markdown",
          "checksum": "dd3224215a344382855fba7eaf967817",
          "grade": true,
          "grade_id": "cell-86701d810e16c970",
          "locked": false,
          "points": 2,
          "schema_version": 3,
          "solution": true,
          "task": false
        },
        "id": "746add93"
      },
      "source": [
        "YOUR ANSWER HERE\n",
        "We should use valid dataset to calculate the performance metric to find the optimum value of C"
      ],
      "id": "746add93"
    },
    {
      "cell_type": "code",
      "metadata": {
        "deletable": false,
        "nbgrader": {
          "cell_type": "code",
          "checksum": "e2de805a04a01bed65e469eedcecc444",
          "grade": true,
          "grade_id": "cell-33b508ab0187ed79",
          "locked": false,
          "points": 5,
          "schema_version": 3,
          "solution": true,
          "task": false
        },
        "id": "e43edf05",
        "colab": {
          "base_uri": "https://localhost:8080/"
        },
        "outputId": "73e39f4f-bf36-4fb0-d440-bec95876c841"
      },
      "source": [
        "# Complete the follwing code to find the optimum value of C\n",
        "C_candidate = [0.01, 0.1, 1, 10]\n",
        "performance_metric_all = {}\n",
        "\n",
        "#for C in C_candidate:\n",
        "    # define the Logistic Regression model with C = C and random_state=100\n",
        "    # Fit the model using X_traina and y_train\n",
        "    # predict the model's output for the ____ dataset (which one should it be?)\n",
        "    # calculate the performance metric for the ____ dataset\n",
        "    # save it in the array performance_metric_all by using performance_metric_all[C] = per...\n",
        "#    pass\n",
        "\n",
        "#print(performance_metric_all)\n",
        "\n",
        "### BEGIN SOLUTION\n",
        "for C in C_candidate:\n",
        "    model = linear_model.LogisticRegression(C=C, fit_intercept=True, solver='lbfgs', max_iter=100)\n",
        "    model = model.fit(X_train, y_train)\n",
        "    y_pred_valid = model.predict(X_valid)\n",
        "    mse_validation = np.mean((y_pred_valid - y_valid)**2)\n",
        "    performance_metric_all[C] = mse_validation\n",
        "\n",
        "print(performance_metric_all)\n",
        "### END SOLUTION"
      ],
      "id": "e43edf05",
      "execution_count": null,
      "outputs": [
        {
          "output_type": "stream",
          "name": "stdout",
          "text": [
            "{0.01: 0.3333333333333333, 0.1: 0.37037037037037035, 1: 0.3333333333333333, 10: 0.25925925925925924}\n"
          ]
        },
        {
          "output_type": "stream",
          "name": "stderr",
          "text": [
            "/usr/local/lib/python3.7/dist-packages/sklearn/linear_model/_logistic.py:818: ConvergenceWarning: lbfgs failed to converge (status=1):\n",
            "STOP: TOTAL NO. of ITERATIONS REACHED LIMIT.\n",
            "\n",
            "Increase the number of iterations (max_iter) or scale the data as shown in:\n",
            "    https://scikit-learn.org/stable/modules/preprocessing.html\n",
            "Please also refer to the documentation for alternative solver options:\n",
            "    https://scikit-learn.org/stable/modules/linear_model.html#logistic-regression\n",
            "  extra_warning_msg=_LOGISTIC_SOLVER_CONVERGENCE_MSG,\n",
            "/usr/local/lib/python3.7/dist-packages/sklearn/linear_model/_logistic.py:818: ConvergenceWarning: lbfgs failed to converge (status=1):\n",
            "STOP: TOTAL NO. of ITERATIONS REACHED LIMIT.\n",
            "\n",
            "Increase the number of iterations (max_iter) or scale the data as shown in:\n",
            "    https://scikit-learn.org/stable/modules/preprocessing.html\n",
            "Please also refer to the documentation for alternative solver options:\n",
            "    https://scikit-learn.org/stable/modules/linear_model.html#logistic-regression\n",
            "  extra_warning_msg=_LOGISTIC_SOLVER_CONVERGENCE_MSG,\n",
            "/usr/local/lib/python3.7/dist-packages/sklearn/linear_model/_logistic.py:818: ConvergenceWarning: lbfgs failed to converge (status=1):\n",
            "STOP: TOTAL NO. of ITERATIONS REACHED LIMIT.\n",
            "\n",
            "Increase the number of iterations (max_iter) or scale the data as shown in:\n",
            "    https://scikit-learn.org/stable/modules/preprocessing.html\n",
            "Please also refer to the documentation for alternative solver options:\n",
            "    https://scikit-learn.org/stable/modules/linear_model.html#logistic-regression\n",
            "  extra_warning_msg=_LOGISTIC_SOLVER_CONVERGENCE_MSG,\n",
            "/usr/local/lib/python3.7/dist-packages/sklearn/linear_model/_logistic.py:818: ConvergenceWarning: lbfgs failed to converge (status=1):\n",
            "STOP: TOTAL NO. of ITERATIONS REACHED LIMIT.\n",
            "\n",
            "Increase the number of iterations (max_iter) or scale the data as shown in:\n",
            "    https://scikit-learn.org/stable/modules/preprocessing.html\n",
            "Please also refer to the documentation for alternative solver options:\n",
            "    https://scikit-learn.org/stable/modules/linear_model.html#logistic-regression\n",
            "  extra_warning_msg=_LOGISTIC_SOLVER_CONVERGENCE_MSG,\n"
          ]
        }
      ]
    },
    {
      "cell_type": "markdown",
      "metadata": {
        "deletable": false,
        "editable": false,
        "nbgrader": {
          "cell_type": "markdown",
          "checksum": "e20eac89f7133612f695f345422a219d",
          "grade": false,
          "grade_id": "cell-b0351aa30e3d8419",
          "locked": true,
          "schema_version": 3,
          "solution": false,
          "task": false
        },
        "id": "f311eb02"
      },
      "source": [
        "## Quesion 6\n",
        "Based on the output of the previous block, which value of C should we choose?"
      ],
      "id": "f311eb02"
    },
    {
      "cell_type": "markdown",
      "metadata": {
        "deletable": false,
        "nbgrader": {
          "cell_type": "markdown",
          "checksum": "bd209c8ba9df0c7c12abdb5a3272ba9d",
          "grade": true,
          "grade_id": "cell-e136f88268cc26d2",
          "locked": false,
          "points": 1,
          "schema_version": 3,
          "solution": true,
          "task": false
        },
        "id": "45fcbfd8"
      },
      "source": [
        "YOUR ANSWER HERE\n",
        "Based on the output of the previous block, should we choose C=0.1"
      ],
      "id": "45fcbfd8"
    },
    {
      "cell_type": "code",
      "metadata": {
        "deletable": false,
        "nbgrader": {
          "cell_type": "code",
          "checksum": "cdc6f8b214d935c2dc6720e20568480b",
          "grade": true,
          "grade_id": "cell-5b14833953d397d3",
          "locked": false,
          "points": 3,
          "schema_version": 3,
          "solution": true,
          "task": false
        },
        "id": "200c903b",
        "colab": {
          "base_uri": "https://localhost:8080/"
        },
        "outputId": "895f5057-9f45-4d43-aff2-8046ecda0199"
      },
      "source": [
        "# Fit a logistic regression model on X_train, y_train using the C value found above. Use random_state=100\n",
        "# predict the model's output for X_train and save it to y_predict_train\n",
        "# predict the model's output for X_test and save it to y_predict_test\n",
        "\n",
        "### BEGIN SOLUTION\n",
        "final_model = linear_model.LogisticRegression(C=0.1, fit_intercept=True, solver='lbfgs', max_iter=100)\n",
        "final_model = final_model.fit(X_train, y_train)\n",
        "y_predict_train = final_model.predict(X_train)\n",
        "y_predict_test = final_model.predict(X_test)\n",
        "\n",
        "### END SOLUTION"
      ],
      "id": "200c903b",
      "execution_count": null,
      "outputs": [
        {
          "output_type": "stream",
          "name": "stderr",
          "text": [
            "/usr/local/lib/python3.7/dist-packages/sklearn/linear_model/_logistic.py:818: ConvergenceWarning: lbfgs failed to converge (status=1):\n",
            "STOP: TOTAL NO. of ITERATIONS REACHED LIMIT.\n",
            "\n",
            "Increase the number of iterations (max_iter) or scale the data as shown in:\n",
            "    https://scikit-learn.org/stable/modules/preprocessing.html\n",
            "Please also refer to the documentation for alternative solver options:\n",
            "    https://scikit-learn.org/stable/modules/linear_model.html#logistic-regression\n",
            "  extra_warning_msg=_LOGISTIC_SOLVER_CONVERGENCE_MSG,\n"
          ]
        }
      ]
    },
    {
      "cell_type": "code",
      "metadata": {
        "deletable": false,
        "nbgrader": {
          "cell_type": "code",
          "checksum": "9d147d8c9651041c8bb66823910f49e9",
          "grade": true,
          "grade_id": "cell-28abda9ee6a4686f",
          "locked": false,
          "points": 2,
          "schema_version": 3,
          "solution": true,
          "task": false
        },
        "id": "04b2242c",
        "colab": {
          "base_uri": "https://localhost:8080/"
        },
        "outputId": "4fbb9830-67a0-4587-a411-a80820dbb705"
      },
      "source": [
        "# Calculate a suitable performance metric for the training set for this classification problem\n",
        "# Calculate a suitable performance metric for the test set for this classification problem\n",
        "# Print the values\n",
        "\n",
        "performance_train = None\n",
        "performance_test = None\n",
        "\n",
        "### BEGIN SOLUTION\n",
        "performance_train = np.mean((y_train - final_model.predict(X_train))**2)\n",
        "performance_test = np.mean((y_test - y_predict_test)**2)\n",
        "print(\"performance_train=\", performance_train)\n",
        "print(\"performance_test=\", performance_test)\n",
        "### END SOLUTION"
      ],
      "id": "04b2242c",
      "execution_count": null,
      "outputs": [
        {
          "output_type": "stream",
          "name": "stdout",
          "text": [
            "performance_train= 0.14093959731543623\n",
            "performance_test= 0.15625\n"
          ]
        }
      ]
    },
    {
      "cell_type": "markdown",
      "metadata": {
        "deletable": false,
        "editable": false,
        "nbgrader": {
          "cell_type": "markdown",
          "checksum": "67d658b59402862aab973c3cea5424fc",
          "grade": false,
          "grade_id": "cell-9eccac3af46884bf",
          "locked": true,
          "schema_version": 3,
          "solution": false,
          "task": false
        },
        "id": "86f3e622"
      },
      "source": [
        "## Question 7\n",
        "- Which performance metric did you use and why?\n",
        "- Is this a good model for the dataset? Why or why not?\n",
        "- Suggest some ways (at least one) that might improve the performance metric"
      ],
      "id": "86f3e622"
    },
    {
      "cell_type": "markdown",
      "metadata": {
        "deletable": false,
        "nbgrader": {
          "cell_type": "markdown",
          "checksum": "161eab883c47e09d0b44eadd1c283662",
          "grade": true,
          "grade_id": "cell-87d1c00ace8c1462",
          "locked": false,
          "points": 2,
          "schema_version": 3,
          "solution": true,
          "task": false
        },
        "id": "38521349"
      },
      "source": [
        "YOUR ANSWER HERE\n",
        "1. I used MSE performance metric\n",
        "2. Yes, this is a good model for the dataset cause there is less error.\n",
        "3. Mean Average Error might improve the performance metric."
      ],
      "id": "38521349"
    }
  ]
}